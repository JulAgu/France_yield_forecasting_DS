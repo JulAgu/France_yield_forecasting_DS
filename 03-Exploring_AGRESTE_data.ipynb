{
 "cells": [
  {
   "cell_type": "markdown",
   "metadata": {},
   "source": [
    "**In short**, the data provided by AGRESTE comes from the SAA (*Statistique Agricole Annuelle*). It is composed by area, production and yield. It is available for the main crops developped in France's territory.\n",
    "\n",
    "PD : AGRESTE is the Statistics and Forecasting Department of the French Ministry of Agriculture."
   ]
  }
 ],
 "metadata": {
  "language_info": {
   "name": "python"
  }
 },
 "nbformat": 4,
 "nbformat_minor": 2
}
